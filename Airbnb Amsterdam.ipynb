{
 "cells": [
  {
   "cell_type": "code",
   "execution_count": 1,
   "metadata": {},
   "outputs": [],
   "source": [
    "import numpy as np\n",
    "import pandas as pd\n",
    "import matplotlib.pyplot as plt\n",
    "import seaborn as sns"
   ]
  },
  {
   "cell_type": "code",
   "execution_count": 2,
   "metadata": {},
   "outputs": [],
   "source": [
    "df = pd.read_csv(r\"C:\\Users\\Faiq1\\Desktop\\listings.csv\")"
   ]
  },
  {
   "cell_type": "code",
   "execution_count": 3,
   "metadata": {
    "scrolled": false
   },
   "outputs": [
    {
     "data": {
      "text/html": [
       "<div>\n",
       "<style scoped>\n",
       "    .dataframe tbody tr th:only-of-type {\n",
       "        vertical-align: middle;\n",
       "    }\n",
       "\n",
       "    .dataframe tbody tr th {\n",
       "        vertical-align: top;\n",
       "    }\n",
       "\n",
       "    .dataframe thead th {\n",
       "        text-align: right;\n",
       "    }\n",
       "</style>\n",
       "<table border=\"1\" class=\"dataframe\">\n",
       "  <thead>\n",
       "    <tr style=\"text-align: right;\">\n",
       "      <th></th>\n",
       "      <th>id</th>\n",
       "      <th>listing_url</th>\n",
       "      <th>scrape_id</th>\n",
       "      <th>last_scraped</th>\n",
       "      <th>source</th>\n",
       "      <th>name</th>\n",
       "      <th>description</th>\n",
       "      <th>neighborhood_overview</th>\n",
       "      <th>picture_url</th>\n",
       "      <th>host_id</th>\n",
       "      <th>...</th>\n",
       "      <th>review_scores_communication</th>\n",
       "      <th>review_scores_location</th>\n",
       "      <th>review_scores_value</th>\n",
       "      <th>license</th>\n",
       "      <th>instant_bookable</th>\n",
       "      <th>calculated_host_listings_count</th>\n",
       "      <th>calculated_host_listings_count_entire_homes</th>\n",
       "      <th>calculated_host_listings_count_private_rooms</th>\n",
       "      <th>calculated_host_listings_count_shared_rooms</th>\n",
       "      <th>reviews_per_month</th>\n",
       "    </tr>\n",
       "  </thead>\n",
       "  <tbody>\n",
       "    <tr>\n",
       "      <th>0</th>\n",
       "      <td>2818</td>\n",
       "      <td>https://www.airbnb.com/rooms/2818</td>\n",
       "      <td>20230309202119</td>\n",
       "      <td>2023-03-09</td>\n",
       "      <td>city scrape</td>\n",
       "      <td>Quiet Garden View Room &amp; Super Fast Wi-Fi</td>\n",
       "      <td>Quiet Garden View Room &amp; Super Fast Wi-Fi&lt;br /...</td>\n",
       "      <td>Indische Buurt (\"Indies Neighborhood\") is a ne...</td>\n",
       "      <td>https://a0.muscache.com/pictures/10272854/8dcc...</td>\n",
       "      <td>3159</td>\n",
       "      <td>...</td>\n",
       "      <td>4.98</td>\n",
       "      <td>4.69</td>\n",
       "      <td>4.81</td>\n",
       "      <td>0363 5F3A 5684 6750 D14D</td>\n",
       "      <td>f</td>\n",
       "      <td>1</td>\n",
       "      <td>0</td>\n",
       "      <td>1</td>\n",
       "      <td>0</td>\n",
       "      <td>1.90</td>\n",
       "    </tr>\n",
       "    <tr>\n",
       "      <th>1</th>\n",
       "      <td>311124</td>\n",
       "      <td>https://www.airbnb.com/rooms/311124</td>\n",
       "      <td>20230309202119</td>\n",
       "      <td>2023-03-10</td>\n",
       "      <td>city scrape</td>\n",
       "      <td>*historic centre* *bright* *canal view* *jordaan*</td>\n",
       "      <td>&gt; Please be so kind to book  ONLY AFTER  conta...</td>\n",
       "      <td>Perfect location in the lively centre. All his...</td>\n",
       "      <td>https://a0.muscache.com/pictures/5208672/5bb60...</td>\n",
       "      <td>1600010</td>\n",
       "      <td>...</td>\n",
       "      <td>4.92</td>\n",
       "      <td>4.93</td>\n",
       "      <td>4.60</td>\n",
       "      <td>0363 59D8 7D30 6CFA DC81</td>\n",
       "      <td>f</td>\n",
       "      <td>1</td>\n",
       "      <td>1</td>\n",
       "      <td>0</td>\n",
       "      <td>0</td>\n",
       "      <td>0.66</td>\n",
       "    </tr>\n",
       "    <tr>\n",
       "      <th>2</th>\n",
       "      <td>319985</td>\n",
       "      <td>https://www.airbnb.com/rooms/319985</td>\n",
       "      <td>20230309202119</td>\n",
       "      <td>2023-03-10</td>\n",
       "      <td>city scrape</td>\n",
       "      <td>Elegant Appartement Central Location.</td>\n",
       "      <td>From December 26 thru January 2, minimum stay ...</td>\n",
       "      <td>Bij aankomst vertel ik mijn gasten graag over ...</td>\n",
       "      <td>https://a0.muscache.com/pictures/3b76222e-ed0a...</td>\n",
       "      <td>1640702</td>\n",
       "      <td>...</td>\n",
       "      <td>4.78</td>\n",
       "      <td>4.85</td>\n",
       "      <td>4.62</td>\n",
       "      <td>0363 7D88 E1E8 F521 9A10</td>\n",
       "      <td>f</td>\n",
       "      <td>2</td>\n",
       "      <td>1</td>\n",
       "      <td>1</td>\n",
       "      <td>0</td>\n",
       "      <td>3.73</td>\n",
       "    </tr>\n",
       "    <tr>\n",
       "      <th>3</th>\n",
       "      <td>327285</td>\n",
       "      <td>https://www.airbnb.com/rooms/327285</td>\n",
       "      <td>20230309202119</td>\n",
       "      <td>2023-03-10</td>\n",
       "      <td>city scrape</td>\n",
       "      <td>beautiful designed ap.+bikes+garden</td>\n",
       "      <td>Cosy and comfortable apartment on the ground f...</td>\n",
       "      <td>'De Pijp' as we Amsterdammers know it today is...</td>\n",
       "      <td>https://a0.muscache.com/pictures/4283713/63eaa...</td>\n",
       "      <td>1672823</td>\n",
       "      <td>...</td>\n",
       "      <td>4.99</td>\n",
       "      <td>4.91</td>\n",
       "      <td>4.84</td>\n",
       "      <td>0363 8A88 B129 62B5 BD4E</td>\n",
       "      <td>t</td>\n",
       "      <td>2</td>\n",
       "      <td>0</td>\n",
       "      <td>2</td>\n",
       "      <td>0</td>\n",
       "      <td>4.19</td>\n",
       "    </tr>\n",
       "    <tr>\n",
       "      <th>4</th>\n",
       "      <td>331946</td>\n",
       "      <td>https://www.airbnb.com/rooms/331946</td>\n",
       "      <td>20230309202119</td>\n",
       "      <td>2023-03-10</td>\n",
       "      <td>previous scrape</td>\n",
       "      <td>Lovely FAMILY house near Vondelpark</td>\n",
       "      <td>* Our house is only suitable for a couple or f...</td>\n",
       "      <td>NaN</td>\n",
       "      <td>https://a0.muscache.com/pictures/b73c16af-4e31...</td>\n",
       "      <td>1687595</td>\n",
       "      <td>...</td>\n",
       "      <td>4.88</td>\n",
       "      <td>4.79</td>\n",
       "      <td>4.75</td>\n",
       "      <td>0363 A942 21DC C431 1AD1</td>\n",
       "      <td>f</td>\n",
       "      <td>1</td>\n",
       "      <td>1</td>\n",
       "      <td>0</td>\n",
       "      <td>0</td>\n",
       "      <td>0.24</td>\n",
       "    </tr>\n",
       "    <tr>\n",
       "      <th>...</th>\n",
       "      <td>...</td>\n",
       "      <td>...</td>\n",
       "      <td>...</td>\n",
       "      <td>...</td>\n",
       "      <td>...</td>\n",
       "      <td>...</td>\n",
       "      <td>...</td>\n",
       "      <td>...</td>\n",
       "      <td>...</td>\n",
       "      <td>...</td>\n",
       "      <td>...</td>\n",
       "      <td>...</td>\n",
       "      <td>...</td>\n",
       "      <td>...</td>\n",
       "      <td>...</td>\n",
       "      <td>...</td>\n",
       "      <td>...</td>\n",
       "      <td>...</td>\n",
       "      <td>...</td>\n",
       "      <td>...</td>\n",
       "      <td>...</td>\n",
       "    </tr>\n",
       "    <tr>\n",
       "      <th>6993</th>\n",
       "      <td>842462220391708128</td>\n",
       "      <td>https://www.airbnb.com/rooms/842462220391708128</td>\n",
       "      <td>20230309202119</td>\n",
       "      <td>2023-03-10</td>\n",
       "      <td>city scrape</td>\n",
       "      <td>Flat in the center of Amsterdam</td>\n",
       "      <td>Our place is the really best place you can pic...</td>\n",
       "      <td>Stay in the middle of Amsterdam. Bikes around,...</td>\n",
       "      <td>https://a0.muscache.com/pictures/miso/Hosting-...</td>\n",
       "      <td>47205615</td>\n",
       "      <td>...</td>\n",
       "      <td>NaN</td>\n",
       "      <td>NaN</td>\n",
       "      <td>NaN</td>\n",
       "      <td>0363 80A2 E913 8FAD A98A</td>\n",
       "      <td>f</td>\n",
       "      <td>1</td>\n",
       "      <td>1</td>\n",
       "      <td>0</td>\n",
       "      <td>0</td>\n",
       "      <td>NaN</td>\n",
       "    </tr>\n",
       "    <tr>\n",
       "      <th>6994</th>\n",
       "      <td>842493348876281257</td>\n",
       "      <td>https://www.airbnb.com/rooms/842493348876281257</td>\n",
       "      <td>20230309202119</td>\n",
       "      <td>2023-03-09</td>\n",
       "      <td>city scrape</td>\n",
       "      <td>3bed ark close to city centre</td>\n",
       "      <td>At NDSM, the arty heart of the city, you can f...</td>\n",
       "      <td>NaN</td>\n",
       "      <td>https://a0.muscache.com/pictures/miso/Hosting-...</td>\n",
       "      <td>454835217</td>\n",
       "      <td>...</td>\n",
       "      <td>NaN</td>\n",
       "      <td>NaN</td>\n",
       "      <td>NaN</td>\n",
       "      <td>0363 B755 6BD8 6F8D AA7F</td>\n",
       "      <td>t</td>\n",
       "      <td>1</td>\n",
       "      <td>1</td>\n",
       "      <td>0</td>\n",
       "      <td>0</td>\n",
       "      <td>NaN</td>\n",
       "    </tr>\n",
       "    <tr>\n",
       "      <th>6995</th>\n",
       "      <td>842634905680862660</td>\n",
       "      <td>https://www.airbnb.com/rooms/842634905680862660</td>\n",
       "      <td>20230309202119</td>\n",
       "      <td>2023-03-10</td>\n",
       "      <td>city scrape</td>\n",
       "      <td>ground floor studio 46m2 at boulevard &amp; canal</td>\n",
       "      <td>Studio in a newly build house. Entrance at the...</td>\n",
       "      <td>NaN</td>\n",
       "      <td>https://a0.muscache.com/pictures/miso/Hosting-...</td>\n",
       "      <td>504448710</td>\n",
       "      <td>...</td>\n",
       "      <td>NaN</td>\n",
       "      <td>NaN</td>\n",
       "      <td>NaN</td>\n",
       "      <td>0363 76A0 B46B 281A C38E</td>\n",
       "      <td>f</td>\n",
       "      <td>1</td>\n",
       "      <td>1</td>\n",
       "      <td>0</td>\n",
       "      <td>0</td>\n",
       "      <td>NaN</td>\n",
       "    </tr>\n",
       "    <tr>\n",
       "      <th>6996</th>\n",
       "      <td>842713539293550316</td>\n",
       "      <td>https://www.airbnb.com/rooms/842713539293550316</td>\n",
       "      <td>20230309202119</td>\n",
       "      <td>2023-03-09</td>\n",
       "      <td>city scrape</td>\n",
       "      <td>Oasis in trendy Amsterdam East</td>\n",
       "      <td>Design appartement met fijne tuin, in een van ...</td>\n",
       "      <td>NaN</td>\n",
       "      <td>https://a0.muscache.com/pictures/miso/Hosting-...</td>\n",
       "      <td>17537276</td>\n",
       "      <td>...</td>\n",
       "      <td>NaN</td>\n",
       "      <td>NaN</td>\n",
       "      <td>NaN</td>\n",
       "      <td>0363 97C2 71FF 5383 DC95</td>\n",
       "      <td>f</td>\n",
       "      <td>1</td>\n",
       "      <td>1</td>\n",
       "      <td>0</td>\n",
       "      <td>0</td>\n",
       "      <td>NaN</td>\n",
       "    </tr>\n",
       "    <tr>\n",
       "      <th>6997</th>\n",
       "      <td>842754604161195632</td>\n",
       "      <td>https://www.airbnb.com/rooms/842754604161195632</td>\n",
       "      <td>20230309202119</td>\n",
       "      <td>2023-03-09</td>\n",
       "      <td>city scrape</td>\n",
       "      <td>Penthouse Loft with a View</td>\n",
       "      <td>Beautiful 2 bedroom 1 bathroom top floor apart...</td>\n",
       "      <td>NaN</td>\n",
       "      <td>https://a0.muscache.com/pictures/miso/Hosting-...</td>\n",
       "      <td>20336096</td>\n",
       "      <td>...</td>\n",
       "      <td>NaN</td>\n",
       "      <td>NaN</td>\n",
       "      <td>NaN</td>\n",
       "      <td>0363 A514 512A A671 03A3</td>\n",
       "      <td>f</td>\n",
       "      <td>1</td>\n",
       "      <td>1</td>\n",
       "      <td>0</td>\n",
       "      <td>0</td>\n",
       "      <td>NaN</td>\n",
       "    </tr>\n",
       "  </tbody>\n",
       "</table>\n",
       "<p>6998 rows × 75 columns</p>\n",
       "</div>"
      ],
      "text/plain": [
       "                      id                                      listing_url  \\\n",
       "0                   2818                https://www.airbnb.com/rooms/2818   \n",
       "1                 311124              https://www.airbnb.com/rooms/311124   \n",
       "2                 319985              https://www.airbnb.com/rooms/319985   \n",
       "3                 327285              https://www.airbnb.com/rooms/327285   \n",
       "4                 331946              https://www.airbnb.com/rooms/331946   \n",
       "...                  ...                                              ...   \n",
       "6993  842462220391708128  https://www.airbnb.com/rooms/842462220391708128   \n",
       "6994  842493348876281257  https://www.airbnb.com/rooms/842493348876281257   \n",
       "6995  842634905680862660  https://www.airbnb.com/rooms/842634905680862660   \n",
       "6996  842713539293550316  https://www.airbnb.com/rooms/842713539293550316   \n",
       "6997  842754604161195632  https://www.airbnb.com/rooms/842754604161195632   \n",
       "\n",
       "           scrape_id last_scraped           source  \\\n",
       "0     20230309202119   2023-03-09      city scrape   \n",
       "1     20230309202119   2023-03-10      city scrape   \n",
       "2     20230309202119   2023-03-10      city scrape   \n",
       "3     20230309202119   2023-03-10      city scrape   \n",
       "4     20230309202119   2023-03-10  previous scrape   \n",
       "...              ...          ...              ...   \n",
       "6993  20230309202119   2023-03-10      city scrape   \n",
       "6994  20230309202119   2023-03-09      city scrape   \n",
       "6995  20230309202119   2023-03-10      city scrape   \n",
       "6996  20230309202119   2023-03-09      city scrape   \n",
       "6997  20230309202119   2023-03-09      city scrape   \n",
       "\n",
       "                                                   name  \\\n",
       "0             Quiet Garden View Room & Super Fast Wi-Fi   \n",
       "1     *historic centre* *bright* *canal view* *jordaan*   \n",
       "2                 Elegant Appartement Central Location.   \n",
       "3                   beautiful designed ap.+bikes+garden   \n",
       "4                   Lovely FAMILY house near Vondelpark   \n",
       "...                                                 ...   \n",
       "6993                    Flat in the center of Amsterdam   \n",
       "6994                      3bed ark close to city centre   \n",
       "6995      ground floor studio 46m2 at boulevard & canal   \n",
       "6996                     Oasis in trendy Amsterdam East   \n",
       "6997                         Penthouse Loft with a View   \n",
       "\n",
       "                                            description  \\\n",
       "0     Quiet Garden View Room & Super Fast Wi-Fi<br /...   \n",
       "1     > Please be so kind to book  ONLY AFTER  conta...   \n",
       "2     From December 26 thru January 2, minimum stay ...   \n",
       "3     Cosy and comfortable apartment on the ground f...   \n",
       "4     * Our house is only suitable for a couple or f...   \n",
       "...                                                 ...   \n",
       "6993  Our place is the really best place you can pic...   \n",
       "6994  At NDSM, the arty heart of the city, you can f...   \n",
       "6995  Studio in a newly build house. Entrance at the...   \n",
       "6996  Design appartement met fijne tuin, in een van ...   \n",
       "6997  Beautiful 2 bedroom 1 bathroom top floor apart...   \n",
       "\n",
       "                                  neighborhood_overview  \\\n",
       "0     Indische Buurt (\"Indies Neighborhood\") is a ne...   \n",
       "1     Perfect location in the lively centre. All his...   \n",
       "2     Bij aankomst vertel ik mijn gasten graag over ...   \n",
       "3     'De Pijp' as we Amsterdammers know it today is...   \n",
       "4                                                   NaN   \n",
       "...                                                 ...   \n",
       "6993  Stay in the middle of Amsterdam. Bikes around,...   \n",
       "6994                                                NaN   \n",
       "6995                                                NaN   \n",
       "6996                                                NaN   \n",
       "6997                                                NaN   \n",
       "\n",
       "                                            picture_url    host_id  ...  \\\n",
       "0     https://a0.muscache.com/pictures/10272854/8dcc...       3159  ...   \n",
       "1     https://a0.muscache.com/pictures/5208672/5bb60...    1600010  ...   \n",
       "2     https://a0.muscache.com/pictures/3b76222e-ed0a...    1640702  ...   \n",
       "3     https://a0.muscache.com/pictures/4283713/63eaa...    1672823  ...   \n",
       "4     https://a0.muscache.com/pictures/b73c16af-4e31...    1687595  ...   \n",
       "...                                                 ...        ...  ...   \n",
       "6993  https://a0.muscache.com/pictures/miso/Hosting-...   47205615  ...   \n",
       "6994  https://a0.muscache.com/pictures/miso/Hosting-...  454835217  ...   \n",
       "6995  https://a0.muscache.com/pictures/miso/Hosting-...  504448710  ...   \n",
       "6996  https://a0.muscache.com/pictures/miso/Hosting-...   17537276  ...   \n",
       "6997  https://a0.muscache.com/pictures/miso/Hosting-...   20336096  ...   \n",
       "\n",
       "     review_scores_communication review_scores_location review_scores_value  \\\n",
       "0                           4.98                   4.69                4.81   \n",
       "1                           4.92                   4.93                4.60   \n",
       "2                           4.78                   4.85                4.62   \n",
       "3                           4.99                   4.91                4.84   \n",
       "4                           4.88                   4.79                4.75   \n",
       "...                          ...                    ...                 ...   \n",
       "6993                         NaN                    NaN                 NaN   \n",
       "6994                         NaN                    NaN                 NaN   \n",
       "6995                         NaN                    NaN                 NaN   \n",
       "6996                         NaN                    NaN                 NaN   \n",
       "6997                         NaN                    NaN                 NaN   \n",
       "\n",
       "                       license instant_bookable  \\\n",
       "0     0363 5F3A 5684 6750 D14D                f   \n",
       "1     0363 59D8 7D30 6CFA DC81                f   \n",
       "2     0363 7D88 E1E8 F521 9A10                f   \n",
       "3     0363 8A88 B129 62B5 BD4E                t   \n",
       "4     0363 A942 21DC C431 1AD1                f   \n",
       "...                        ...              ...   \n",
       "6993  0363 80A2 E913 8FAD A98A                f   \n",
       "6994  0363 B755 6BD8 6F8D AA7F                t   \n",
       "6995  0363 76A0 B46B 281A C38E                f   \n",
       "6996  0363 97C2 71FF 5383 DC95                f   \n",
       "6997  0363 A514 512A A671 03A3                f   \n",
       "\n",
       "     calculated_host_listings_count  \\\n",
       "0                                 1   \n",
       "1                                 1   \n",
       "2                                 2   \n",
       "3                                 2   \n",
       "4                                 1   \n",
       "...                             ...   \n",
       "6993                              1   \n",
       "6994                              1   \n",
       "6995                              1   \n",
       "6996                              1   \n",
       "6997                              1   \n",
       "\n",
       "     calculated_host_listings_count_entire_homes  \\\n",
       "0                                              0   \n",
       "1                                              1   \n",
       "2                                              1   \n",
       "3                                              0   \n",
       "4                                              1   \n",
       "...                                          ...   \n",
       "6993                                           1   \n",
       "6994                                           1   \n",
       "6995                                           1   \n",
       "6996                                           1   \n",
       "6997                                           1   \n",
       "\n",
       "     calculated_host_listings_count_private_rooms  \\\n",
       "0                                               1   \n",
       "1                                               0   \n",
       "2                                               1   \n",
       "3                                               2   \n",
       "4                                               0   \n",
       "...                                           ...   \n",
       "6993                                            0   \n",
       "6994                                            0   \n",
       "6995                                            0   \n",
       "6996                                            0   \n",
       "6997                                            0   \n",
       "\n",
       "     calculated_host_listings_count_shared_rooms reviews_per_month  \n",
       "0                                              0              1.90  \n",
       "1                                              0              0.66  \n",
       "2                                              0              3.73  \n",
       "3                                              0              4.19  \n",
       "4                                              0              0.24  \n",
       "...                                          ...               ...  \n",
       "6993                                           0               NaN  \n",
       "6994                                           0               NaN  \n",
       "6995                                           0               NaN  \n",
       "6996                                           0               NaN  \n",
       "6997                                           0               NaN  \n",
       "\n",
       "[6998 rows x 75 columns]"
      ]
     },
     "execution_count": 3,
     "metadata": {},
     "output_type": "execute_result"
    }
   ],
   "source": [
    "df"
   ]
  },
  {
   "cell_type": "code",
   "execution_count": 4,
   "metadata": {},
   "outputs": [
    {
     "name": "stdout",
     "output_type": "stream",
     "text": [
      "<class 'pandas.core.frame.DataFrame'>\n",
      "RangeIndex: 6998 entries, 0 to 6997\n",
      "Data columns (total 75 columns):\n",
      " #   Column                                        Non-Null Count  Dtype  \n",
      "---  ------                                        --------------  -----  \n",
      " 0   id                                            6998 non-null   int64  \n",
      " 1   listing_url                                   6998 non-null   object \n",
      " 2   scrape_id                                     6998 non-null   int64  \n",
      " 3   last_scraped                                  6998 non-null   object \n",
      " 4   source                                        6998 non-null   object \n",
      " 5   name                                          6998 non-null   object \n",
      " 6   description                                   6992 non-null   object \n",
      " 7   neighborhood_overview                         4506 non-null   object \n",
      " 8   picture_url                                   6998 non-null   object \n",
      " 9   host_id                                       6998 non-null   int64  \n",
      " 10  host_url                                      6998 non-null   object \n",
      " 11  host_name                                     6998 non-null   object \n",
      " 12  host_since                                    6998 non-null   object \n",
      " 13  host_location                                 6195 non-null   object \n",
      " 14  host_about                                    4083 non-null   object \n",
      " 15  host_response_time                            4959 non-null   object \n",
      " 16  host_response_rate                            4959 non-null   object \n",
      " 17  host_acceptance_rate                          6003 non-null   object \n",
      " 18  host_is_superhost                             6994 non-null   object \n",
      " 19  host_thumbnail_url                            6998 non-null   object \n",
      " 20  host_picture_url                              6998 non-null   object \n",
      " 21  host_neighbourhood                            2976 non-null   object \n",
      " 22  host_listings_count                           6998 non-null   int64  \n",
      " 23  host_total_listings_count                     6998 non-null   int64  \n",
      " 24  host_verifications                            6998 non-null   object \n",
      " 25  host_has_profile_pic                          6998 non-null   object \n",
      " 26  host_identity_verified                        6998 non-null   object \n",
      " 27  neighbourhood                                 4506 non-null   object \n",
      " 28  neighbourhood_cleansed                        6998 non-null   object \n",
      " 29  neighbourhood_group_cleansed                  0 non-null      float64\n",
      " 30  latitude                                      6998 non-null   float64\n",
      " 31  longitude                                     6998 non-null   float64\n",
      " 32  property_type                                 6998 non-null   object \n",
      " 33  room_type                                     6998 non-null   object \n",
      " 34  accommodates                                  6998 non-null   int64  \n",
      " 35  bathrooms                                     0 non-null      float64\n",
      " 36  bathrooms_text                                6985 non-null   object \n",
      " 37  bedrooms                                      6714 non-null   float64\n",
      " 38  beds                                          6913 non-null   float64\n",
      " 39  amenities                                     6998 non-null   object \n",
      " 40  price                                         6998 non-null   object \n",
      " 41  minimum_nights                                6998 non-null   int64  \n",
      " 42  maximum_nights                                6998 non-null   int64  \n",
      " 43  minimum_minimum_nights                        6998 non-null   int64  \n",
      " 44  maximum_minimum_nights                        6998 non-null   int64  \n",
      " 45  minimum_maximum_nights                        6998 non-null   int64  \n",
      " 46  maximum_maximum_nights                        6998 non-null   int64  \n",
      " 47  minimum_nights_avg_ntm                        6998 non-null   float64\n",
      " 48  maximum_nights_avg_ntm                        6998 non-null   float64\n",
      " 49  calendar_updated                              0 non-null      float64\n",
      " 50  has_availability                              6998 non-null   object \n",
      " 51  availability_30                               6998 non-null   int64  \n",
      " 52  availability_60                               6998 non-null   int64  \n",
      " 53  availability_90                               6998 non-null   int64  \n",
      " 54  availability_365                              6998 non-null   int64  \n",
      " 55  calendar_last_scraped                         6998 non-null   object \n",
      " 56  number_of_reviews                             6998 non-null   int64  \n",
      " 57  number_of_reviews_ltm                         6998 non-null   int64  \n",
      " 58  number_of_reviews_l30d                        6998 non-null   int64  \n",
      " 59  first_review                                  6316 non-null   object \n",
      " 60  last_review                                   6316 non-null   object \n",
      " 61  review_scores_rating                          6316 non-null   float64\n",
      " 62  review_scores_accuracy                        6312 non-null   float64\n",
      " 63  review_scores_cleanliness                     6312 non-null   float64\n",
      " 64  review_scores_checkin                         6312 non-null   float64\n",
      " 65  review_scores_communication                   6312 non-null   float64\n",
      " 66  review_scores_location                        6312 non-null   float64\n",
      " 67  review_scores_value                           6312 non-null   float64\n",
      " 68  license                                       6974 non-null   object \n",
      " 69  instant_bookable                              6998 non-null   object \n",
      " 70  calculated_host_listings_count                6998 non-null   int64  \n",
      " 71  calculated_host_listings_count_entire_homes   6998 non-null   int64  \n",
      " 72  calculated_host_listings_count_private_rooms  6998 non-null   int64  \n",
      " 73  calculated_host_listings_count_shared_rooms   6998 non-null   int64  \n",
      " 74  reviews_per_month                             6316 non-null   float64\n",
      "dtypes: float64(17), int64(23), object(35)\n",
      "memory usage: 4.0+ MB\n"
     ]
    }
   ],
   "source": [
    "df.info()"
   ]
  },
  {
   "cell_type": "markdown",
   "metadata": {},
   "source": []
  },
  {
   "cell_type": "code",
   "execution_count": 5,
   "metadata": {},
   "outputs": [
    {
     "data": {
      "text/plain": [
       "6998"
      ]
     },
     "execution_count": 5,
     "metadata": {},
     "output_type": "execute_result"
    }
   ],
   "source": [
    "df['listing_url'].count()"
   ]
  },
  {
   "cell_type": "markdown",
   "metadata": {},
   "source": []
  },
  {
   "cell_type": "code",
   "execution_count": 6,
   "metadata": {},
   "outputs": [
    {
     "data": {
      "text/plain": [
       "0       Amsterdam, Netherlands\n",
       "1       Amsterdam, Netherlands\n",
       "2       Amsterdam, Netherlands\n",
       "3       Amsterdam, Netherlands\n",
       "4       Amsterdam, Netherlands\n",
       "                 ...          \n",
       "6993    Amsterdam, Netherlands\n",
       "6994                       NaN\n",
       "6995                       NaN\n",
       "6996    Amsterdam, Netherlands\n",
       "6997         San Francisco, CA\n",
       "Name: host_location, Length: 6998, dtype: object"
      ]
     },
     "execution_count": 6,
     "metadata": {},
     "output_type": "execute_result"
    }
   ],
   "source": [
    "df['host_location']"
   ]
  },
  {
   "cell_type": "code",
   "execution_count": 7,
   "metadata": {},
   "outputs": [],
   "source": [
    "df[['host_city', 'host_country']] = df['host_location'].str.split(', ', expand = True)"
   ]
  },
  {
   "cell_type": "code",
   "execution_count": 8,
   "metadata": {},
   "outputs": [
    {
     "data": {
      "text/plain": [
       "host_country\n",
       "Netherlands       5838\n",
       "United Kingdom      22\n",
       "Germany             11\n",
       "Belgium             10\n",
       "NY                  10\n",
       "Name: host_country, dtype: int64"
      ]
     },
     "execution_count": 8,
     "metadata": {},
     "output_type": "execute_result"
    }
   ],
   "source": [
    "df.groupby('host_country')['host_country'].count().sort_values(ascending = False).head(5)"
   ]
  },
  {
   "cell_type": "markdown",
   "metadata": {},
   "source": []
  },
  {
   "cell_type": "code",
   "execution_count": 9,
   "metadata": {},
   "outputs": [
    {
     "data": {
      "text/plain": [
       "host_response_time\n",
       "a few days or more     108\n",
       "within a day          1083\n",
       "within a few hours    1123\n",
       "within an hour        2645\n",
       "Name: host_response_time, dtype: int64"
      ]
     },
     "execution_count": 9,
     "metadata": {},
     "output_type": "execute_result"
    }
   ],
   "source": [
    "df.groupby('host_response_time')['host_response_time'].count()"
   ]
  },
  {
   "cell_type": "code",
   "execution_count": 14,
   "metadata": {},
   "outputs": [
    {
     "data": {
      "image/png": "[encoded data removed]",
      "text/plain": [
       "<Figure size 720x720 with 1 Axes>"
      ]
     },
     "metadata": {},
     "output_type": "display_data"
    }
   ],
   "source": [
    "fig = plt.figure(figsize = (10,10))\n",
    "plt.pie(df.groupby('host_response_time')['host_response_time'].count(), labels = df.groupby('host_response_time')['host_response_time'].count().index, autopct = \"%1.2f%%\")\n",
    "plt.show()"
   ]
  },
  {
   "cell_type": "markdown",
   "metadata": {},
   "source": []
  },
  {
   "cell_type": "code",
   "execution_count": 15,
   "metadata": {},
   "outputs": [
    {
     "data": {
      "text/plain": [
       "host_country\n",
       "Netherlands    22770\n",
       "Portugal        2104\n",
       "Switzerland      409\n",
       "Denmark          233\n",
       "Belgium           97\n",
       "Name: host_total_listings_count, dtype: int64"
      ]
     },
     "execution_count": 15,
     "metadata": {},
     "output_type": "execute_result"
    }
   ],
   "source": [
    "df.groupby('host_country')['host_total_listings_count'].sum().sort_values(ascending = False).head(5)"
   ]
  },
  {
   "cell_type": "markdown",
   "metadata": {},
   "source": []
  },
  {
   "cell_type": "code",
   "execution_count": 17,
   "metadata": {},
   "outputs": [],
   "source": [
    "df['price'] = df['price'].str.replace('$', '').str.replace(',','').astype(float)"
   ]
  },
  {
   "cell_type": "code",
   "execution_count": 20,
   "metadata": {},
   "outputs": [
    {
     "data": {
      "text/plain": [
       "count    6998.000000\n",
       "mean      223.038868\n",
       "std       181.018460\n",
       "min         0.000000\n",
       "25%       130.000000\n",
       "50%       186.000000\n",
       "75%       270.000000\n",
       "max      7900.000000\n",
       "Name: price, dtype: float64"
      ]
     },
     "execution_count": 20,
     "metadata": {},
     "output_type": "execute_result"
    }
   ],
   "source": [
    "df['price'].describe()"
   ]
  },
  {
   "cell_type": "code",
   "execution_count": 21,
   "metadata": {},
   "outputs": [
    {
     "data": {
      "text/plain": [
       "mean      223.038868\n",
       "std       181.018460\n",
       "median    186.000000\n",
       "Name: price, dtype: float64"
      ]
     },
     "execution_count": 21,
     "metadata": {},
     "output_type": "execute_result"
    }
   ],
   "source": [
    "df['price'].aggregate([np.mean, np.std, np.median])"
   ]
  },
  {
   "cell_type": "markdown",
   "metadata": {},
   "source": []
  },
  {
   "cell_type": "code",
   "execution_count": 22,
   "metadata": {},
   "outputs": [
    {
     "data": {
      "text/plain": [
       "room_type\n",
       "Entire home/apt    248.898913\n",
       "Hotel room         177.322581\n",
       "Private room       150.766495\n",
       "Shared room        108.230769\n",
       "Name: price, dtype: float64"
      ]
     },
     "execution_count": 22,
     "metadata": {},
     "output_type": "execute_result"
    }
   ],
   "source": [
    "df.groupby('room_type')['price'].mean()"
   ]
  },
  {
   "cell_type": "code",
   "execution_count": 26,
   "metadata": {},
   "outputs": [
    {
     "data": {
      "image/png": "[encoded data removed]",
      "text/plain": [
       "<Figure size 720x720 with 1 Axes>"
      ]
     },
     "metadata": {
      "needs_background": "light"
     },
     "output_type": "display_data"
    }
   ],
   "source": [
    "fig = plt.figure(figsize = (10,10))\n",
    "sns.barplot(x = 'room_type',y = 'price', data = df)\n",
    "plt.show()"
   ]
  },
  {
   "cell_type": "markdown",
   "metadata": {},
   "source": []
  },
  {
   "cell_type": "code",
   "execution_count": 27,
   "metadata": {
    "scrolled": true
   },
   "outputs": [
    {
     "data": {
      "text/plain": [
       "room_type\n",
       "Entire home/apt    4.657944\n",
       "Private room       4.603453\n",
       "Shared room        4.502222\n",
       "Hotel room         4.459667\n",
       "Name: review_scores_value, dtype: float64"
      ]
     },
     "execution_count": 27,
     "metadata": {},
     "output_type": "execute_result"
    }
   ],
   "source": [
    "df.groupby('room_type')['review_scores_value'].mean().sort_values(ascending = False)"
   ]
  },
  {
   "cell_type": "code",
   "execution_count": 29,
   "metadata": {
    "scrolled": true
   },
   "outputs": [
    {
     "data": {
      "text/plain": [
       "<AxesSubplot:xlabel='room_type', ylabel='review_scores_value'>"
      ]
     },
     "execution_count": 29,
     "metadata": {},
     "output_type": "execute_result"
    },
    {
     "data": {
      "image/png": "[encoded data removed]",
      "text/plain": [
       "<Figure size 720x720 with 1 Axes>"
      ]
     },
     "metadata": {
      "needs_background": "light"
     },
     "output_type": "display_data"
    }
   ],
   "source": [
    "fig = plt.figure(figsize = (10,10))\n",
    "\n",
    "sns.barplot(x = 'room_type', y = 'review_scores_value', data = df)"
   ]
  },
  {
   "cell_type": "markdown",
   "metadata": {},
   "source": []
  },
  {
   "cell_type": "code",
   "execution_count": 31,
   "metadata": {},
   "outputs": [
    {
     "data": {
      "text/plain": [
       "host_name\n",
       "Jean Paul                           186.11\n",
       "Generator                           109.90\n",
       "Bunk                                 84.96\n",
       "Conscious Hotel The Tire Station     71.88\n",
       "Marcel                               51.69\n",
       "Name: reviews_per_month, dtype: float64"
      ]
     },
     "execution_count": 31,
     "metadata": {},
     "output_type": "execute_result"
    }
   ],
   "source": [
    "df.groupby('host_name')['reviews_per_month'].sum().sort_values(ascending = False).head(5)"
   ]
  },
  {
   "cell_type": "markdown",
   "metadata": {},
   "source": []
  },
  {
   "cell_type": "code",
   "execution_count": 32,
   "metadata": {},
   "outputs": [],
   "source": [
    "df['desc_length'] = df['description'].str.len()"
   ]
  },
  {
   "cell_type": "code",
   "execution_count": 34,
   "metadata": {},
   "outputs": [
    {
     "data": {
      "text/plain": [
       "0       1000.0\n",
       "1       1000.0\n",
       "2       1000.0\n",
       "3       1000.0\n",
       "4       1000.0\n",
       "         ...  \n",
       "6993     593.0\n",
       "6994     559.0\n",
       "6995     710.0\n",
       "6996     561.0\n",
       "6997     541.0\n",
       "Name: desc_length, Length: 6998, dtype: float64"
      ]
     },
     "execution_count": 34,
     "metadata": {},
     "output_type": "execute_result"
    }
   ],
   "source": [
    "df['desc_length']"
   ]
  },
  {
   "cell_type": "code",
   "execution_count": 35,
   "metadata": {},
   "outputs": [
    {
     "data": {
      "text/plain": [
       "5749"
      ]
     },
     "execution_count": 35,
     "metadata": {},
     "output_type": "execute_result"
    }
   ],
   "source": [
    "df[df['desc_length']>500]['description'].count()"
   ]
  },
  {
   "cell_type": "markdown",
   "metadata": {},
   "source": []
  },
  {
   "cell_type": "code",
   "execution_count": 36,
   "metadata": {},
   "outputs": [
    {
     "data": {
      "image/png": "[encoded data removed]",
      "text/plain": [
       "<Figure size 1440x1440 with 3 Axes>"
      ]
     },
     "metadata": {
      "needs_background": "light"
     },
     "output_type": "display_data"
    }
   ],
   "source": [
    "fig = plt.figure(figsize = (20,20))\n",
    "\n",
    "plt.subplot(2,2,1)\n",
    "plt.pie(df.groupby('host_response_time')['host_response_time'].count(), labels = df.groupby('host_response_time')['host_response_time'].count().index, autopct = \"%1.2f%%\")\n",
    "\n",
    "plt.subplot(2,2,2)\n",
    "sns.barplot(x = 'room_type',y = 'price', data = df)\n",
    "\n",
    "plt.subplot(2,2,3)\n",
    "sns.barplot(x = 'room_type', y = 'review_scores_value', data = df)\n",
    "\n",
    "plt.show()"
   ]
  }
 ],
 "metadata": {
  "kernelspec": {
   "display_name": "Python 3 (ipykernel)",
   "language": "python",
   "name": "python3"
  },
  "language_info": {
   "codemirror_mode": {
    "name": "ipython",
    "version": 3
   },
   "file_extension": ".py",
   "mimetype": "text/x-python",
   "name": "python",
   "nbconvert_exporter": "python",
   "pygments_lexer": "ipython3",
   "version": "3.10.9"
  }
 },
 "nbformat": 4,
 "nbformat_minor": 4
}
